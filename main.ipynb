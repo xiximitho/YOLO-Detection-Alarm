{
 "cells": [
  {
   "cell_type": "markdown",
   "metadata": {},
   "source": [
    "Baixar o arquivo já analisado.\n",
    "[Pré-treinado](https://pjreddie.com/media/files/yolov3.weights)"
   ]
  },
  {
   "cell_type": "markdown",
   "metadata": {},
   "source": [
    "# YOLO - You Only Look Once\n",
    "É um sistema de detecção de objetos em tempo real de última geração."
   ]
  },
  {
   "cell_type": "code",
   "execution_count": null,
   "metadata": {},
   "outputs": [],
   "source": [
    "import cv2\n",
    "import numpy as np\n",
    "import time"
   ]
  },
  {
   "cell_type": "markdown",
   "metadata": {},
   "source": [
    "yolov3.cfg: Arquivo de configuração do yolo (default) utilizado para setar a saturação, exposição e canais de cores para ser analisados.\n",
    "\n",
    "yolov3.weigths: Arquivo pré treinado.\n",
    "\n",
    "coco: Arquivo com as respectivas label's."
   ]
  },
  {
   "cell_type": "code",
   "execution_count": null,
   "metadata": {},
   "outputs": [],
   "source": [
    "#Carrega o YOLO\n",
    "\n",
    "net = cv2.dnn.readNet(\"yolov3.weights\", \"yolov3.cfg\")\n",
    "classes = []\n",
    "\n",
    "with open(\"coco.names\", \"r\") as f:\n",
    "    classes = [line.strip() for line in f.readlines()] #pega os nomes dentro do arquivo."
   ]
  },
  {
   "cell_type": "code",
   "execution_count": null,
   "metadata": {},
   "outputs": [],
   "source": [
    "#Separação das camadas\n",
    "layer_names = net.getLayerNames()\n",
    "\n",
    "outputlayers = [layer_names[i - 1] for i in net.getUnconnectedOutLayers()]\n",
    "colors = np.random.uniform(0,255, size=(len(classes), 3))"
   ]
  },
  {
   "cell_type": "code",
   "execution_count": null,
   "metadata": {},
   "outputs": [],
   "source": [
    "video = cv2.VideoCapture('loja.mp4')\n",
    "writer = None #Utilizado para geração do video de saída\n",
    "fonte = cv2.FONT_HERSHEY_PLAIN\n",
    "inicio = time.time()\n",
    "frame_id = 0\n",
    "count = 0\n",
    "writer = None\n",
    "(W, H) = (None, None)\n",
    "try:\n",
    "    prop = cv2.CAP_PROP_FRAME_COUNT\n",
    "    total = int(video.get(prop))\n",
    "    print(\"[INFO] {} total de frames no video\".format(total))\n",
    "except:\n",
    "    printf(\"Erro, não foi possível determinar a quantidade de frames no video\") \n"
   ]
  },
  {
   "cell_type": "code",
   "execution_count": null,
   "metadata": {},
   "outputs": [],
   "source": [
    "while True:\n",
    "    (ret, frame) = video.read()\n",
    "    if not ret:\n",
    "        break\n",
    "    if W is None or H is None:\n",
    "        (H,W) = frame.shape[:2]\n",
    "\n",
    "    height,width,channels = frame.shape #Propriedades do frame analisado\n",
    "\n",
    "    #Converte a imagem para blob para utilizar com o openCV\n",
    "    blob = cv2.dnn.blobFromImage(frame, 1 / 255.0, (416, 416), swapRB = True, crop = False)\n",
    "\n",
    "    #retangulo de área para ser identificado\n",
    "    y_inicio = 250\n",
    "    x_inicio = 700\n",
    "    cv2.rectangle(frame, (20,y_inicio), (x_inicio,x_inicio), (0,255,0), thickness = 2)\n",
    "    net.setInput(blob)\n",
    "    outs = net.forward(outputlayers)\n",
    "    #print(outs[1])\n",
    "\n",
    "\n",
    "    #Pega o nível de confiança de um objeto no BLOB analisado\n",
    "    class_ids=[]\n",
    "    confidences=[]\n",
    "    boxes=[]\n",
    "    for out in outs:\n",
    "        for detection in out:\n",
    "            scores = detection[5:]\n",
    "            class_id = np.argmax(scores)\n",
    "            confianca = scores[class_id]\n",
    "            #Nível de confiança desejado\n",
    "            if confianca > 0.8:\n",
    "                #Objeto detectado\n",
    "                center_x= int(detection[0]*width)\n",
    "                center_y= int(detection[1]*height)\n",
    "\n",
    "                w = int(detection[2]*width)\n",
    "                h = int(detection[3]*height)\n",
    "\n",
    "                x=int(center_x - w/2)\n",
    "                y=int(center_y - h/2)\n",
    "\n",
    "                boxes.append([x,y,w,h]) #Insere o retangulo de detecção pelo yolo no vetor \n",
    "                confidences.append(float(confianca)) #Insere o nível de confiança detectado\n",
    "                class_ids.append(class_id) #Nome do objeto detectado\n",
    "                if writer is None:\n",
    "                    fourcc = cv2.VideoWriter_fourcc(*'MJPG')\n",
    "                    writer = cv2.VideoWriter('output_loja.avi', fourcc, 30, (frame.shape[1], frame.shape[0]), True)\n",
    "\n",
    "    indexes = cv2.dnn.NMSBoxes(boxes,confidences,0.4,0.6)\n",
    "\n",
    "    for i in range(len(boxes)):\n",
    "        if i in indexes:\n",
    "            #Delimitação da região para validação de intruso..\n",
    "            x,y,w,h = boxes[i]\n",
    "            if x <= x_inicio and y >= y_inicio:\n",
    "                #\"Intruso\" Detectado\n",
    "               cv2.putText(frame,\"INTRUSO\",(x,y+80),fonte,2,(0,0,255),2)    \n",
    "            label = str(classes[class_ids[i]])\n",
    "            confianca= confidences[i]\n",
    "            color = colors[class_ids[i]]\n",
    "            cv2.rectangle(frame,(x,y),(x+w,y+h),color,2)\n",
    "            cv2.putText(frame,label+\" \"+str(round(confianca,2)),(x,y+30),fonte,1,(255,255,255),2)\n",
    "\n",
    "    if writer is not None:\n",
    "        writer.write(frame)\n",
    "        print(\"Escrevendo frame\" , count+1)\n",
    "        count = count + 1\n",
    "\n",
    "    elapsed_time = time.time() - inicio\n",
    "    fps=frame_id/elapsed_time\n",
    "    cv2.putText(frame,\"FPS:\"+str(round(fps,2)),(10,50),fonte,2,(0,0,0),1)\n",
    "    \n",
    "    #cv2.imshow(\"Image\",frame)\n",
    "    #key = cv2.waitKey(1) #espera 1ms para processar cada frame\n",
    "    \n",
    "    #if key == 27: #esc \n",
    "     #   break;\n",
    "print(elapsed_time)\n",
    "writer.release()\n",
    "video.release()        \n",
    "    "
   ]
  }
 ],
 "metadata": {
  "kernelspec": {
   "display_name": "Python 3 (ipykernel)",
   "language": "python",
   "name": "python3"
  },
  "language_info": {
   "codemirror_mode": {
    "name": "ipython",
    "version": 3
   },
   "file_extension": ".py",
   "mimetype": "text/x-python",
   "name": "python",
   "nbconvert_exporter": "python",
   "pygments_lexer": "ipython3",
   "version": "3.9.13"
  },
  "vscode": {
   "interpreter": {
    "hash": "016a8a2f8e7c5e51193735657290d62952b12dcf663317cd55d4dfa7f305cff8"
   }
  }
 },
 "nbformat": 4,
 "nbformat_minor": 2
}
